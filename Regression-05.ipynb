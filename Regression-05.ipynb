{
 "cells": [
  {
   "cell_type": "code",
   "execution_count": null,
   "id": "809ce185",
   "metadata": {},
   "outputs": [],
   "source": [
    "Q1. What is Elastic Net Regression and how does it differ from other regression techniques?\n",
    "\n",
    "\n",
    "Ans:- Elastic Net Regression is a linear regression technique that combines both L1(Lasso) and\n",
    "    L2 (Ridge) regularization penalities in the cost function. It addresses some of the limitation of\n",
    "    individual Lasso and Ridge regression methods. \n",
    "    \n",
    "    The primary difference between Elastic Net and other regression techniques lies in the regularization terms.\n",
    "    Lasso Regression (L1) can lead to exact zero coefficients,effectively performing feature selection. while ridge regression (L2) shrinks coefficients towards zero\n",
    "    but doesnot force them exactly to zero. Elastic net finds a balance between these two\n",
    "    techniques, allowing for feature selection while handling correlated \n",
    "    features better than Lasso alone."
   ]
  },
  {
   "cell_type": "code",
   "execution_count": null,
   "id": "a87dc466",
   "metadata": {},
   "outputs": [],
   "source": []
  },
  {
   "cell_type": "code",
   "execution_count": null,
   "id": "a2da22bc",
   "metadata": {},
   "outputs": [],
   "source": [
    "Q2. How do you choose the optimal values of the regularization parameters for elastic net Regression ?\n",
    "\n",
    "Ans:- Choosing the optimal values of the regularization parameters alpha and lambda in Elastic.\n",
    "    Net Regression is crucial to achieve the best model perforamnace.\n",
    "    \n",
    "    The process of choosing the optimal values involves:\n",
    "        \n",
    "        1. Divide Data\n",
    "        2. Cross validation\n",
    "        3. Evaluate model"
   ]
  },
  {
   "cell_type": "code",
   "execution_count": null,
   "id": "484e8e28",
   "metadata": {},
   "outputs": [],
   "source": [
    "Q3. What are the advantages and disadvantages of Elastic Net Regression?\n",
    "\n",
    "Ans:- Advantages of Elastic Net Regression.\n",
    "    1. can handle highly correlated features better than Lasso Regression.\n",
    "    2. Performs both feature selection and coefficient shrinkage.\n",
    "    3. Suitable for datasets with a large number of features and potential collinearity.\n",
    "    4. Offers a balance between L1 and L2 regularization.\n",
    "    \n",
    "    Disadvantages of Elastic Net Regression:-0\n",
    "        \n",
    "        1. Requires tunning of two hyperparameters.\n",
    "        2. The resulting model may not be as interpretable as oridinary linear regression when many \n",
    "        coefficients are non-zero.\n",
    "        "
   ]
  },
  {
   "cell_type": "code",
   "execution_count": null,
   "id": "9470fc1d",
   "metadata": {},
   "outputs": [],
   "source": [
    "Q4. What are some common  use cases for Elastic Net Regression?\n",
    "\n",
    "Ans:-  It is commonly used in various data analysis and machine learning tasks:\n",
    "        \n",
    "        1. Regression tasks with datasets containing a large number of features and potential collinearity\n",
    "        2. Financial modeling and time-series analysis.\n",
    "        3. Recommender systems and collaborative filtering."
   ]
  },
  {
   "cell_type": "code",
   "execution_count": null,
   "id": "94c11abe",
   "metadata": {},
   "outputs": [],
   "source": [
    "Q5. How do you interpret the coefficients in Elastic Net Regression?\n",
    "\n",
    "Ans:- Interpreting coefficients in Elastic Net Regression is similar to interpreting coefficients in ordinary \n",
    "    linear regression. The coefficients represent the change in the target variable for a one-unit change in the corresponding independent variable while holding \n",
    "    all other variables constant."
   ]
  },
  {
   "cell_type": "code",
   "execution_count": null,
   "id": "dfcd0fe7",
   "metadata": {},
   "outputs": [],
   "source": [
    "Q6. How do you handle missing values when using Elastic Net Regression?\n",
    "\n",
    "Ans:- Handling missing values in Elastic Net Regression is essential to ensure accurate model training. Common approaches for handling missing values include:\n",
    "\n",
    "    1. Imputation: Fill missing values with a meaningful estimate, such as the mean, median, or most frequent value of the feature.\n",
    "    2. Dropping Rows or Columns: If the number of missing values is small compared to the dataset, you can remove rows or columns containing missing values.\n",
    "    3. Advanced Imputation Techniques: Use more sophisticated imputation methods like k-nearest neighbors (KNN) imputation or regression-based imputation to estimate missing values based on other available features."
   ]
  },
  {
   "cell_type": "code",
   "execution_count": null,
   "id": "eedb859c",
   "metadata": {},
   "outputs": [],
   "source": [
    "Q7. How do you use Elastic Net Regression for feature selection?\n",
    "\n",
    "Ans:- Elastic Net Regression inherently performs feature selection by driving some coefficients\n",
    "    to exaclty zero due to its L1 regularization component . As a result, features with zero coefficients\n",
    "    are effectively excluded from the model."
   ]
  }
 ],
 "metadata": {
  "kernelspec": {
   "display_name": "Python 3 (ipykernel)",
   "language": "python",
   "name": "python3"
  },
  "language_info": {
   "codemirror_mode": {
    "name": "ipython",
    "version": 3
   },
   "file_extension": ".py",
   "mimetype": "text/x-python",
   "name": "python",
   "nbconvert_exporter": "python",
   "pygments_lexer": "ipython3",
   "version": "3.11.4"
  }
 },
 "nbformat": 4,
 "nbformat_minor": 5
}
