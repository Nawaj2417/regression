{
 "cells": [
  {
   "cell_type": "code",
   "execution_count": null,
   "id": "7ff33b87",
   "metadata": {},
   "outputs": [],
   "source": [
    "Q1. What is Ridge Regression, and how does it differ from ordinary least squares regression?"
   ]
  },
  {
   "cell_type": "code",
   "execution_count": null,
   "id": "1c857d81",
   "metadata": {},
   "outputs": [],
   "source": [
    "Ans:- Ridge Regression, also known as L2 regularization, is a linear regression technique that adds\n",
    "    a penalty term proportional to the square of the magnitude of the coefficient to the oridinary\n",
    "    least squares (OLS) cost function.The purpose of this penality is to prevent overfitting and  \n",
    "    reduce the impact of multicollinearly in the data."
   ]
  },
  {
   "cell_type": "code",
   "execution_count": null,
   "id": "c2179a7e",
   "metadata": {},
   "outputs": [],
   "source": [
    "Q2. What are the assumption of Ridge Regression ?"
   ]
  },
  {
   "cell_type": "code",
   "execution_count": null,
   "id": "8032c563",
   "metadata": {},
   "outputs": [],
   "source": [
    "Ans:- The assumption of Ridge Regression are:\n",
    "        1. Linearity: The relationship between the dependent variable and \n",
    "            the independent variables is assumed to be linear.\n",
    "        2. Independence:- The observations are assumed to be independent of each other.\n",
    "        3. Normality: The residuals should follow a normal distribution."
   ]
  },
  {
   "cell_type": "code",
   "execution_count": null,
   "id": "402dbd3f",
   "metadata": {},
   "outputs": [],
   "source": [
    "Q3. How do you select the value of the tuning parameter (lambda) in Ridge Regression?\n",
    "\n",
    "Ans:- The selection of the lambda valuein Ridge Regression is crucial as it controls the strength of regularization.\n",
    "    A small lambda value will have little regularization effect, making ridge regression approach OLS regression."
   ]
  },
  {
   "cell_type": "code",
   "execution_count": null,
   "id": "1c36cf44",
   "metadata": {},
   "outputs": [],
   "source": [
    "Q4. Can Ridge Regression be used for feature selection? If yes, how?\n",
    "\n",
    "Ans:- Ridge Regression does not perform feature selection in the same way as some other techniques like Lasso Regression. \n",
    "    The L2 regularization term in RidgeRegression penalizes the coefficients, but it typically does not force them exactly\n",
    "    to zero unless lambda is very large."
   ]
  },
  {
   "cell_type": "code",
   "execution_count": null,
   "id": "15a8149e",
   "metadata": {},
   "outputs": [],
   "source": [
    "Q5. How does the Ridge Regression model perform in the presence of multicollinearity?\n",
    "\n",
    "Ans:- One of the significant advantages of Ridge Regression is its ability to handle multicollinearity well. \n",
    "    Multicollinearity occurs when two or more independent variables are highly correlated, leading to unstable \n",
    "    and unreliable coefficient estimates in OLS regression.\n",
    "\n",
    "Ridge Regression, through its regularization term, helps mitigate the issue of multicollinearity by shrinking the \n",
    "coefficients. By adding the penalty term, Ridge Regression prevents the coefficients from taking extreme values, making \n",
    "the model less sensitive to small changes in the input features. This stabilizes the model and reduces the impact of multicollinearity, resulting \n",
    "in more reliable\n",
    "and robust coefficient estimates."
   ]
  },
  {
   "cell_type": "code",
   "execution_count": null,
   "id": "c9d1ba2a",
   "metadata": {},
   "outputs": [],
   "source": [
    "Q6. Can Ridge Regression handle both categorical and continuous independent variables?\n",
    "\n",
    "Ans:- Yes, Ridge Regression can handle both categorical and continuous independent variables. However, the categorical variables need to be appropriately encoded before using them in the model."
   ]
  },
  {
   "cell_type": "code",
   "execution_count": null,
   "id": "7e309f61",
   "metadata": {},
   "outputs": [],
   "source": [
    "Q7. How do you interpret the coefficients of Ridge Regression?\n",
    "\n",
    "Ans:- Interpreting coefficients in Ridge Regression is similar to interpreting coefficients \n",
    "    in ordinary linear regression. The coefficients represent the change in the target variable for a one-unit\n",
    "    change in the corresponding independent variable while holding all other variables constant."
   ]
  },
  {
   "cell_type": "code",
   "execution_count": null,
   "id": "850dabab",
   "metadata": {},
   "outputs": [],
   "source": [
    "Q8. Can Ridge Regression be used for time-series data analysis? If yes, how?\n",
    "\n",
    "Ans:- Yes, Ridge Regression can be adapted for time-series data analysis, especially when dealing with issues like multicollinearity and overfitting.\n",
    "    Ridge Regression can be particularly useful in time-series analysis when you have highly correlated predictors, as the regularization helps stabilize \n",
    "    the model and makes it less sensitive to fluctuations in the data. However, other techniques like autoregressive models (ARIMA) or machine learning models \n",
    "    specifically designed for time-series data (e.g., LSTM, GRU) are often preferred choices for time-series forecasting tasks."
   ]
  }
 ],
 "metadata": {
  "kernelspec": {
   "display_name": "Python 3 (ipykernel)",
   "language": "python",
   "name": "python3"
  },
  "language_info": {
   "codemirror_mode": {
    "name": "ipython",
    "version": 3
   },
   "file_extension": ".py",
   "mimetype": "text/x-python",
   "name": "python",
   "nbconvert_exporter": "python",
   "pygments_lexer": "ipython3",
   "version": "3.11.4"
  }
 },
 "nbformat": 4,
 "nbformat_minor": 5
}
