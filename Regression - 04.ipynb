{
 "cells": [
  {
   "cell_type": "code",
   "execution_count": null,
   "id": "a9b896d0",
   "metadata": {},
   "outputs": [],
   "source": [
    "Q1. What is Lasso Regression, and how does it differ from other regression techniques ?\n",
    "\n",
    "Ans:- Lasso regression is a linear regression technique that adds an L1 regularization term to the ordinary\n",
    "    least squares (OLS) cost function. This regularization term is proportional to the absolute value of the  \n",
    "    coefficients , which makes some of the coefficients exactly zero, effectively performing feature selection.\n",
    "    "
   ]
  },
  {
   "cell_type": "code",
   "execution_count": null,
   "id": "ed0a9786",
   "metadata": {},
   "outputs": [],
   "source": [
    "Q2. What is the main advantage of using Lasso Regression in feature selection ?\n",
    "\n",
    "Ans:- The main advantage of using lasso regression for feature selection is its\n",
    "    ability to automatically identify and select the most relevant features by driving\n",
    "    some coefficients to exactly zero. This results in sparse model, meaning it includes only a subset of the \n",
    "    original features, effectively reducing the model's complexity and improving its interpretability.\n",
    "    "
   ]
  },
  {
   "cell_type": "code",
   "execution_count": null,
   "id": "3329dada",
   "metadata": {},
   "outputs": [],
   "source": [
    "Q3. How do you interpret the coefficients of a Lasso Regression model?\n",
    "\n",
    "Ans:- Interpreting coefficients in lasso regression is similar to interpreting coefficients in ordinary linear regression.\n",
    "    The coefficients represent the change in the target variable for a one-unit change in the corresponding \n",
    "    independent variable while holding all other variables constant."
   ]
  },
  {
   "cell_type": "code",
   "execution_count": null,
   "id": "1ccdb17b",
   "metadata": {},
   "outputs": [],
   "source": [
    "Q4. What are the tunning parameters that can be adjusted in Lasso regression, and how do they affect the model's performance ?\n",
    "\n",
    "Ans:- The main tuning parameters in Lasso Regression is the regularization parameters, often denoted as \"lambda\" or \"alpha\"  .\n",
    "    This parameter controls the strength of the regularization and influences the sparsity of the resulting model.\n",
    "    "
   ]
  },
  {
   "cell_type": "code",
   "execution_count": null,
   "id": "7860bac5",
   "metadata": {},
   "outputs": [],
   "source": [
    "Q5. Can Lasso Regression be used for non-linear regression problems? If yes, how?\n",
    "\n",
    "\n",
    "Ans:- Lasso Regression is primarily suitable for linear regression problems, where the  relationship between the dependent variable\n",
    "    and the independent variables is assumed to be linear. It is not inherently designed to handle non-linear regression problems.\n",
    "    "
   ]
  },
  {
   "cell_type": "code",
   "execution_count": null,
   "id": "a7ca865b",
   "metadata": {},
   "outputs": [],
   "source": [
    "Q6. What is the difference between Ridge Regression and Lasso Regression?\n",
    "\n",
    "Ans:- The main difference between Ridge Regression and Lasso Regression lies in the type of regularization applied:\n",
    "\n",
    "    Regularization Type: Ridge Regression uses L2 regularization, which adds a penalty term proportional to the sum of squared coefficients. Lasso Regression, on the other hand, uses L1 regularization, which adds a penalty term proportional to the sum of the absolute values of the coefficients.\n",
    "\n",
    "    Coefficient Shrinkage: Ridge Regression can shrink coefficients towards zero, but it rarely forces them exactly to zero, leading to a model with small but non-zero coefficients. Lasso Regression, however, has the ability to drive some coefficients to exactly zero, effectively performing feature selection and leading to a sparse model.\n",
    "\n",
    "    Feature Selection: Ridge Regression does not inherently perform feature selection, while Lasso Regression can automatically identify and select the most relevant features by setting some coefficients to zero."
   ]
  },
  {
   "cell_type": "code",
   "execution_count": null,
   "id": "d2aac817",
   "metadata": {},
   "outputs": [],
   "source": [
    "Q7. Can Lasso Regression handle multicollinearity in the input features? If yes, how?\n",
    "\n",
    "Ans:- Yes, Lasso Regression can handle multicollinearity in the input features. Multicollinerity\n",
    "    occurs when two or more independent variables are highly correlated, leading to unstable and unreliable coefficient\n",
    "    estimates in ordinary linear regression."
   ]
  }
 ],
 "metadata": {
  "kernelspec": {
   "display_name": "Python 3 (ipykernel)",
   "language": "python",
   "name": "python3"
  },
  "language_info": {
   "codemirror_mode": {
    "name": "ipython",
    "version": 3
   },
   "file_extension": ".py",
   "mimetype": "text/x-python",
   "name": "python",
   "nbconvert_exporter": "python",
   "pygments_lexer": "ipython3",
   "version": "3.11.4"
  }
 },
 "nbformat": 4,
 "nbformat_minor": 5
}
